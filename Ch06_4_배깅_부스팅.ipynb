{
  "nbformat": 4,
  "nbformat_minor": 0,
  "metadata": {
    "kernelspec": {
      "display_name": "Python 3",
      "language": "python",
      "name": "python3"
    },
    "language_info": {
      "codemirror_mode": {
        "name": "ipython",
        "version": 3
      },
      "file_extension": ".py",
      "mimetype": "text/x-python",
      "name": "python",
      "nbconvert_exporter": "python",
      "pygments_lexer": "ipython3",
      "version": "3.6.9"
    },
    "colab": {
      "name": "Ch06_4.배깅_부스팅.ipynb",
      "provenance": [],
      "machine_shape": "hm",
      "include_colab_link": true
    },
    "accelerator": "TPU"
  },
  "cells": [
    {
      "cell_type": "markdown",
      "metadata": {
        "id": "view-in-github",
        "colab_type": "text"
      },
      "source": [
        "<a href=\"https://colab.research.google.com/github/kiakass/python/blob/master/Ch06_4_%EB%B0%B0%EA%B9%85_%EB%B6%80%EC%8A%A4%ED%8C%85.ipynb\" target=\"_parent\"><img src=\"https://colab.research.google.com/assets/colab-badge.svg\" alt=\"Open In Colab\"/></a>"
      ]
    },
    {
      "cell_type": "markdown",
      "metadata": {
        "id": "uC7zl5Y8iiCU"
      },
      "source": [
        "# Ch06_4.DT_Bagging_Adaboosting"
      ]
    },
    {
      "cell_type": "markdown",
      "metadata": {
        "id": "njzXFPN7iiCV"
      },
      "source": [
        "## 1.기본 package 설정"
      ]
    },
    {
      "cell_type": "code",
      "metadata": {
        "id": "2Rr8ct9BiiCW"
      },
      "source": [
        "## 1.기본\n",
        "import numpy as np  # numpy 패키지 가져오기\n",
        "import matplotlib.pyplot as plt # 시각화 패키지 가져오기\n",
        "\n",
        "## 2.데이터 가져오기\n",
        "import pandas as pd # csv -> dataframe으로 전환\n",
        "from sklearn import datasets # python 저장 데이터 가져오기\n",
        "\n",
        "## 3.데이터 전처리\n",
        "from sklearn.preprocessing import StandardScaler # 연속변수의 표준화\n",
        "from sklearn.preprocessing import LabelEncoder # 범주형 변수 수치화\n",
        "\n",
        "# 4. 훈련/검증용 데이터 분리\n",
        "from sklearn.model_selection import train_test_split \n",
        "\n",
        "## 5.분류모델구축 (3장.p.83~130)\n",
        "from sklearn.tree import DecisionTreeClassifier # 결정 트리\n",
        "# from sklearn.naive_bayes import GaussianNB # 나이브 베이즈\n",
        "#from sklearn.neighbors import KNeighborsClassifier # K-최근접 이웃\n",
        "# from sklearn.linear_model import Perceptron # 퍼셉트론\n",
        "#from sklearn.linear_model import LogisticRegression # 로지스틱 회귀 모델\n",
        "# from sklearn.svm import SVC # 서포트 벡터 머신(SVM)\n",
        "# from sklearn.neural_network import MLPClassifier # 다층인공신경망\n",
        "\n",
        "## 5_1.앙상블 모델 구축 (7장.p.252~288)\n",
        "#from sklearn.ensemble import VotingClassifier # 과반수 투표(Majority Voting) \n",
        "from sklearn.ensemble import BaggingClassifier # 배깅(Bagging) \n",
        "from sklearn.ensemble import AdaBoostClassifier # 부스팅(Boosting) \n",
        "#from sklearn.ensemble import RandomForestClassifier # 랜덤 포레스트\n",
        "\n",
        "\n",
        "## 6.모델검정\n",
        "from sklearn.metrics import confusion_matrix, classification_report # 정오분류표\n",
        "from sklearn.metrics import accuracy_score, precision_score, recall_score, f1_score, roc_auc_score # 정확도, 민감도 등\n",
        "from sklearn.metrics import roc_curve, auc # ROC 곡선 그리기\n",
        "\n",
        "## 7.최적화\n",
        "from sklearn.model_selection import cross_validate # 교차타당도\n",
        "from sklearn.pipeline import make_pipeline # 파이프라인 구축\n",
        "from sklearn.model_selection import learning_curve, validation_curve # 학습곡선, 검증곡선\n",
        "from sklearn.model_selection import GridSearchCV # 하이퍼파라미터 튜닝\n",
        "from sklearn.model_selection import cross_val_score # 교차타당도 # 추가"
      ],
      "execution_count": null,
      "outputs": []
    },
    {
      "cell_type": "markdown",
      "metadata": {
        "id": "xPmRM_fFiiCa"
      },
      "source": [
        "## 2.데이터 가져오기"
      ]
    },
    {
      "cell_type": "markdown",
      "metadata": {
        "id": "yFADeqOkiiCb"
      },
      "source": [
        "### 2.1 데이터프레임으로 저장\n",
        "- 원본데이터(csv)를 dataframe 형태로 가져오기(pandas)"
      ]
    },
    {
      "cell_type": "code",
      "metadata": {
        "id": "KdFd3ZZbjfaC"
      },
      "source": [
        "#from google.colab import drive\n",
        "#\n",
        "#drive.mount('/content/gdrive')\n",
        "#bank_df = pd.read_csv('./gdrive/My Drive/data/bank.csv')"
      ],
      "execution_count": null,
      "outputs": []
    },
    {
      "cell_type": "code",
      "metadata": {
        "id": "Ft93mlyaiiCb",
        "outputId": "8ea498ff-3a58-4eba-f1f5-45552339c04b",
        "colab": {
          "base_uri": "https://localhost:8080/",
          "height": 197
        }
      },
      "source": [
        "# 1. 데이터 로딩\n",
        "\n",
        "bank_df = pd.read_csv('https://raw.githubusercontent.com/kiakass/share/master/bank.csv')\n",
        "\n",
        "## data , target 으로 분리\n",
        "X = bank_df.drop(['Y'], axis=1)\n",
        "y = bank_df['Y']\n",
        "\n",
        "# 2. data 전처리\n",
        "# 범주형 변수인 Education 을 문자로 바꾼후 onehot encoding 하는 방법입니다.\n",
        "X['Education'] = X['Education'].replace ([1,2,3], ['Under','Grad','Prof'])\n",
        "X = pd.get_dummies(X[['Age', 'Experience', 'Income', 'Family', 'CCAvg', 'Education',\n",
        "       'Mortgage', 'Securities.Account', 'CD.Account', 'Online', 'CreditCard']],\n",
        "                   columns=['Education'],\n",
        "                   drop_first = True)\n",
        "X.head()"
      ],
      "execution_count": null,
      "outputs": [
        {
          "output_type": "execute_result",
          "data": {
            "text/html": [
              "<div>\n",
              "<style scoped>\n",
              "    .dataframe tbody tr th:only-of-type {\n",
              "        vertical-align: middle;\n",
              "    }\n",
              "\n",
              "    .dataframe tbody tr th {\n",
              "        vertical-align: top;\n",
              "    }\n",
              "\n",
              "    .dataframe thead th {\n",
              "        text-align: right;\n",
              "    }\n",
              "</style>\n",
              "<table border=\"1\" class=\"dataframe\">\n",
              "  <thead>\n",
              "    <tr style=\"text-align: right;\">\n",
              "      <th></th>\n",
              "      <th>Age</th>\n",
              "      <th>Experience</th>\n",
              "      <th>Income</th>\n",
              "      <th>Family</th>\n",
              "      <th>CCAvg</th>\n",
              "      <th>Mortgage</th>\n",
              "      <th>Securities.Account</th>\n",
              "      <th>CD.Account</th>\n",
              "      <th>Online</th>\n",
              "      <th>CreditCard</th>\n",
              "      <th>Education_Prof</th>\n",
              "      <th>Education_Under</th>\n",
              "    </tr>\n",
              "  </thead>\n",
              "  <tbody>\n",
              "    <tr>\n",
              "      <th>0</th>\n",
              "      <td>25</td>\n",
              "      <td>1</td>\n",
              "      <td>49</td>\n",
              "      <td>4</td>\n",
              "      <td>1.6</td>\n",
              "      <td>0</td>\n",
              "      <td>1</td>\n",
              "      <td>0</td>\n",
              "      <td>0</td>\n",
              "      <td>0</td>\n",
              "      <td>0</td>\n",
              "      <td>1</td>\n",
              "    </tr>\n",
              "    <tr>\n",
              "      <th>1</th>\n",
              "      <td>45</td>\n",
              "      <td>19</td>\n",
              "      <td>34</td>\n",
              "      <td>3</td>\n",
              "      <td>1.5</td>\n",
              "      <td>0</td>\n",
              "      <td>1</td>\n",
              "      <td>0</td>\n",
              "      <td>0</td>\n",
              "      <td>0</td>\n",
              "      <td>0</td>\n",
              "      <td>1</td>\n",
              "    </tr>\n",
              "    <tr>\n",
              "      <th>2</th>\n",
              "      <td>39</td>\n",
              "      <td>15</td>\n",
              "      <td>11</td>\n",
              "      <td>1</td>\n",
              "      <td>1.0</td>\n",
              "      <td>0</td>\n",
              "      <td>0</td>\n",
              "      <td>0</td>\n",
              "      <td>0</td>\n",
              "      <td>0</td>\n",
              "      <td>0</td>\n",
              "      <td>1</td>\n",
              "    </tr>\n",
              "    <tr>\n",
              "      <th>3</th>\n",
              "      <td>35</td>\n",
              "      <td>9</td>\n",
              "      <td>100</td>\n",
              "      <td>1</td>\n",
              "      <td>2.7</td>\n",
              "      <td>0</td>\n",
              "      <td>0</td>\n",
              "      <td>0</td>\n",
              "      <td>0</td>\n",
              "      <td>0</td>\n",
              "      <td>0</td>\n",
              "      <td>0</td>\n",
              "    </tr>\n",
              "    <tr>\n",
              "      <th>4</th>\n",
              "      <td>35</td>\n",
              "      <td>8</td>\n",
              "      <td>45</td>\n",
              "      <td>4</td>\n",
              "      <td>1.0</td>\n",
              "      <td>0</td>\n",
              "      <td>0</td>\n",
              "      <td>0</td>\n",
              "      <td>0</td>\n",
              "      <td>1</td>\n",
              "      <td>0</td>\n",
              "      <td>0</td>\n",
              "    </tr>\n",
              "  </tbody>\n",
              "</table>\n",
              "</div>"
            ],
            "text/plain": [
              "   Age  Experience  Income  ...  CreditCard  Education_Prof  Education_Under\n",
              "0   25           1      49  ...           0               0                1\n",
              "1   45          19      34  ...           0               0                1\n",
              "2   39          15      11  ...           0               0                1\n",
              "3   35           9     100  ...           0               0                0\n",
              "4   35           8      45  ...           1               0                0\n",
              "\n",
              "[5 rows x 12 columns]"
            ]
          },
          "metadata": {
            "tags": []
          },
          "execution_count": 31
        }
      ]
    },
    {
      "cell_type": "markdown",
      "metadata": {
        "id": "6iQX3BNyiiCf"
      },
      "source": [
        "## 3.데이터 전처리"
      ]
    },
    {
      "cell_type": "markdown",
      "metadata": {
        "id": "eIvthvQoiiCf"
      },
      "source": [
        "### 3.1 data(X) 레이블 인코딩\n",
        "- 문자형 자료를 숫자(범주형)로 인코딩 -> 범주형 변수를 가변수로 처리 : One Hot Encording\n",
        "- 숫자형 자료를 표준화\n",
        "- 단, 결정나무, 랜덤 포레스트, 나이브 베이즈 분류 : 원본데이터 그대로 유지"
      ]
    },
    {
      "cell_type": "markdown",
      "metadata": {
        "id": "tDOC4GdyiiCg"
      },
      "source": [
        "- 가변수 처리시 문자로 처리를 해야 변수명 구분이 쉬움"
      ]
    },
    {
      "cell_type": "markdown",
      "metadata": {
        "id": "JK65otuFiiCg"
      },
      "source": [
        "### 3.2 Class(target) 레이블 인코딩\n",
        "- class(y)가 숫자형으로 되어 있기 때문에 변환 없음"
      ]
    },
    {
      "cell_type": "code",
      "metadata": {
        "id": "2GVM5FO_iiCh",
        "outputId": "05902fba-6667-4e47-e22b-f7cf9283a58d",
        "colab": {
          "base_uri": "https://localhost:8080/",
          "height": 216
        }
      },
      "source": [
        "y"
      ],
      "execution_count": null,
      "outputs": [
        {
          "output_type": "execute_result",
          "data": {
            "text/plain": [
              "0       0\n",
              "1       0\n",
              "2       0\n",
              "3       0\n",
              "4       0\n",
              "       ..\n",
              "4995    0\n",
              "4996    0\n",
              "4997    0\n",
              "4998    0\n",
              "4999    0\n",
              "Name: Y, Length: 5000, dtype: int64"
            ]
          },
          "metadata": {
            "tags": []
          },
          "execution_count": 32
        }
      ]
    },
    {
      "cell_type": "markdown",
      "metadata": {
        "id": "D9BRsQBmiiCk"
      },
      "source": [
        "## 4.훈련/검증용 데이터 분할\n",
        "- test_size: 검증데이터 30%\n",
        "- random_state : random seed 번호 = 1\n",
        "- stratify : y(클래스)의 비율에 따라 분할"
      ]
    },
    {
      "cell_type": "code",
      "metadata": {
        "id": "fiU6KTNNiiCk"
      },
      "source": [
        "# \\ 이후에 space 없어야 함\n",
        "X_train, X_test, y_train, y_test = \\\n",
        "        train_test_split(X, y, \n",
        "                         test_size=0.3, \n",
        "                         random_state=1, \n",
        "                         stratify=y)"
      ],
      "execution_count": null,
      "outputs": []
    },
    {
      "cell_type": "markdown",
      "metadata": {
        "id": "QucX88l8iiCn"
      },
      "source": [
        "## 5.모델구축\n",
        "- 기본 및 배깅 모델 구축"
      ]
    },
    {
      "cell_type": "code",
      "metadata": {
        "id": "tWYPl9AwiiCo"
      },
      "source": [
        "tree = DecisionTreeClassifier(max_depth=5, # 수정\n",
        "                              criterion='entropy',\n",
        "                              random_state=1)\n",
        "\n",
        "bagging = BaggingClassifier(base_estimator=tree, # 수정\n",
        "                            n_estimators=100,     # Sample 을 몇개나 -> Decision Tree 갯수 \n",
        "                            max_samples=1.0, \n",
        "                            max_features=1.0, \n",
        "                            bootstrap=True, \n",
        "                            bootstrap_features=False, \n",
        "                            n_jobs=1, \n",
        "                            random_state=1)\n",
        "\n",
        "adaboost = AdaBoostClassifier(base_estimator=tree, # 수정\n",
        "                              n_estimators=100,\n",
        "                              learning_rate = 0.1, # 수정\n",
        "                              random_state=1)\n",
        "\n",
        "clf_labels = ['Decision tree', 'Bagging', 'Ada boost']\n",
        "\n",
        "all_clf = [tree, bagging, adaboost]"
      ],
      "execution_count": null,
      "outputs": []
    },
    {
      "cell_type": "markdown",
      "metadata": {
        "id": "pghqoTiziiCr"
      },
      "source": [
        "## 6. 모델검정"
      ]
    },
    {
      "cell_type": "markdown",
      "metadata": {
        "id": "pihSUwPoiiCr"
      },
      "source": [
        "### 6.1 AUC 검정 : Training Data using cross_validata"
      ]
    },
    {
      "cell_type": "code",
      "metadata": {
        "scrolled": false,
        "id": "RWbU3CfRiiCs",
        "outputId": "16c4272c-a4e4-4db1-fd4a-67bf0504df58",
        "colab": {
          "base_uri": "https://localhost:8080/",
          "height": 66
        }
      },
      "source": [
        "import time\n",
        "\n",
        "for clf, label in zip(all_clf, clf_labels):\n",
        "    start = time.time()  # 시작 시간 저장\n",
        "    scores = cross_val_score(estimator=clf,\n",
        "                             X=X_train,\n",
        "                             y=y_train,\n",
        "                             cv=10,\n",
        "                             scoring='roc_auc')\n",
        "    print(\"[%s] , ROC AUC: %0.3f (+/- %0.3f), time : %.3f sec\"\n",
        "          % (label, scores.mean(), scores.std(), time.time() - start ))"
      ],
      "execution_count": null,
      "outputs": [
        {
          "output_type": "stream",
          "text": [
            "[Decision tree] , ROC AUC: 0.983 (+/- 0.018), time : 0.079 sec\n",
            "[Bagging] , ROC AUC: 0.997 (+/- 0.002), time : 3.780 sec\n",
            "[Ada boost] , ROC AUC: 0.994 (+/- 0.006), time : 7.780 sec\n"
          ],
          "name": "stdout"
        }
      ]
    },
    {
      "cell_type": "markdown",
      "metadata": {
        "id": "mSEqoBg7iiCu"
      },
      "source": [
        "### 6.2 ROC 곡선 그리기\n"
      ]
    },
    {
      "cell_type": "code",
      "metadata": {
        "id": "ZQrLWpbgiiCv",
        "outputId": "f5b1e2db-0b25-4629-b63a-71214f8b4347",
        "colab": {
          "base_uri": "https://localhost:8080/",
          "height": 278
        }
      },
      "source": [
        "colors = ['black', 'orange', 'blue', 'green']\n",
        "linestyles = [':', '--', '-.', '-']\n",
        "\n",
        "for clf, label, clr, ls \\\n",
        "        in zip(all_clf, clf_labels, colors, linestyles):\n",
        "\n",
        "    clf.fit(X_train, y_train)\n",
        "    y_pred = clf.predict_proba(X_test)[:, 1]\n",
        "    fpr, tpr, thresholds = roc_curve(y_true=y_test,\n",
        "                                     y_score=y_pred)\n",
        "    roc_auc = auc(x=fpr, y=tpr)\n",
        "    plt.plot(fpr, tpr,\n",
        "             color=clr,\n",
        "             linestyle=ls,\n",
        "             label='%s (auc = %0.3f)' % (label, roc_auc))\n",
        "\n",
        "plt.legend(loc='lower right')\n",
        "plt.plot([0, 1], [0, 1],\n",
        "         linestyle='--',\n",
        "         color='gray',\n",
        "         linewidth=2)\n",
        "\n",
        "plt.xlim([-0.1, 1.1])\n",
        "plt.ylim([-0.1, 1.1])\n",
        "plt.grid(alpha=0.5)\n",
        "plt.xlabel('False positive rate (FPR)')\n",
        "plt.ylabel('True positive rate (TPR)')\n",
        "\n",
        "plt.show()"
      ],
      "execution_count": null,
      "outputs": [
        {
          "output_type": "display_data",
          "data": {
            "image/png": "[encoded data removed]",
            "text/plain": [
              "<Figure size 432x288 with 1 Axes>"
            ]
          },
          "metadata": {
            "tags": [],
            "needs_background": "light"
          }
        }
      ]
    },
    {
      "cell_type": "markdown",
      "metadata": {
        "id": "6cUPQSPYiiCx"
      },
      "source": [
        "### 6.3 정오분류표로 검정"
      ]
    },
    {
      "cell_type": "code",
      "metadata": {
        "scrolled": true,
        "id": "C60tV8UuiiCy",
        "outputId": "e29879e0-f91b-4ca7-f434-27f4166f1d9f",
        "colab": {
          "base_uri": "https://localhost:8080/",
          "height": 283
        }
      },
      "source": [
        "adaboost.fit(X_train, y_train)"
      ],
      "execution_count": null,
      "outputs": [
        {
          "output_type": "execute_result",
          "data": {
            "text/plain": [
              "AdaBoostClassifier(algorithm='SAMME.R',\n",
              "                   base_estimator=DecisionTreeClassifier(ccp_alpha=0.0,\n",
              "                                                         class_weight=None,\n",
              "                                                         criterion='entropy',\n",
              "                                                         max_depth=5,\n",
              "                                                         max_features=None,\n",
              "                                                         max_leaf_nodes=None,\n",
              "                                                         min_impurity_decrease=0.0,\n",
              "                                                         min_impurity_split=None,\n",
              "                                                         min_samples_leaf=1,\n",
              "                                                         min_samples_split=2,\n",
              "                                                         min_weight_fraction_leaf=0.0,\n",
              "                                                         presort='deprecated',\n",
              "                                                         random_state=1,\n",
              "                                                         splitter='best'),\n",
              "                   learning_rate=0.1, n_estimators=100, random_state=1)"
            ]
          },
          "metadata": {
            "tags": []
          },
          "execution_count": 37
        }
      ]
    },
    {
      "cell_type": "code",
      "metadata": {
        "id": "gsKWESLziiC0"
      },
      "source": [
        "y_pred = adaboost.predict(X_test)"
      ],
      "execution_count": null,
      "outputs": []
    },
    {
      "cell_type": "code",
      "metadata": {
        "id": "mLcOBXS3iiC3",
        "outputId": "7c2a805f-3953-47ff-bed5-7aa0ed8a48dc",
        "colab": {
          "base_uri": "https://localhost:8080/",
          "height": 107
        }
      },
      "source": [
        "confmat = pd.DataFrame(confusion_matrix(y_test, y_pred),\n",
        "                      index=['True[0]','True[1]'],\n",
        "                      columns=['Predict[0]', 'Predict[1]'])\n",
        "confmat"
      ],
      "execution_count": null,
      "outputs": [
        {
          "output_type": "execute_result",
          "data": {
            "text/html": [
              "<div>\n",
              "<style scoped>\n",
              "    .dataframe tbody tr th:only-of-type {\n",
              "        vertical-align: middle;\n",
              "    }\n",
              "\n",
              "    .dataframe tbody tr th {\n",
              "        vertical-align: top;\n",
              "    }\n",
              "\n",
              "    .dataframe thead th {\n",
              "        text-align: right;\n",
              "    }\n",
              "</style>\n",
              "<table border=\"1\" class=\"dataframe\">\n",
              "  <thead>\n",
              "    <tr style=\"text-align: right;\">\n",
              "      <th></th>\n",
              "      <th>Predict[0]</th>\n",
              "      <th>Predict[1]</th>\n",
              "    </tr>\n",
              "  </thead>\n",
              "  <tbody>\n",
              "    <tr>\n",
              "      <th>True[0]</th>\n",
              "      <td>1349</td>\n",
              "      <td>7</td>\n",
              "    </tr>\n",
              "    <tr>\n",
              "      <th>True[1]</th>\n",
              "      <td>24</td>\n",
              "      <td>120</td>\n",
              "    </tr>\n",
              "  </tbody>\n",
              "</table>\n",
              "</div>"
            ],
            "text/plain": [
              "         Predict[0]  Predict[1]\n",
              "True[0]        1349           7\n",
              "True[1]          24         120"
            ]
          },
          "metadata": {
            "tags": []
          },
          "execution_count": 39
        }
      ]
    },
    {
      "cell_type": "code",
      "metadata": {
        "id": "Y8S5H4qxiiC6",
        "outputId": "0007b76d-bafd-43e6-f89f-12e060a6b93c",
        "colab": {
          "base_uri": "https://localhost:8080/",
          "height": 100
        }
      },
      "source": [
        "print('잘못 분류된 샘플 개수: %d' % (y_test != y_pred).sum())\n",
        "print('정확도: %.3f' % accuracy_score(y_test, y_pred))\n",
        "print('정밀도: %.3f' % precision_score(y_true=y_test, y_pred=y_pred))\n",
        "print('재현율: %.3f' % recall_score(y_true=y_test, y_pred=y_pred))\n",
        "print('F1: %.3f' % f1_score(y_true=y_test, y_pred=y_pred))"
      ],
      "execution_count": null,
      "outputs": [
        {
          "output_type": "stream",
          "text": [
            "잘못 분류된 샘플 개수: 31\n",
            "정확도: 0.979\n",
            "정밀도: 0.945\n",
            "재현율: 0.833\n",
            "F1: 0.886\n"
          ],
          "name": "stdout"
        }
      ]
    },
    {
      "cell_type": "markdown",
      "metadata": {
        "id": "FjURRyCvI4md"
      },
      "source": [
        "### 6.4 Validataion : Test Data"
      ]
    },
    {
      "cell_type": "code",
      "metadata": {
        "id": "Mio0gwq5iiDC"
      },
      "source": [
        "def test_validate(model):\n",
        "    model.fit(X_train, y_train)\n",
        "    y_pred = model.predict(X_test)\n",
        "    \n",
        "    confmat = pd.DataFrame(confusion_matrix(y_test, y_pred),\n",
        "                      index=['True[0]','True[1]'],\n",
        "                      columns=['Predict[0]', 'Predict[1]'])\n",
        "    #print(\"confusion_matrix : \\n\", model)\n",
        "    print(confmat)\n",
        "    #print(\"model : \\n\", model)\n",
        "    print('잘못 분류된 샘플 개수: %d' % (y_test != y_pred).sum())\n",
        "    print('정확도: %.3f' % accuracy_score(y_test, y_pred))\n",
        "    print('정밀도: %.3f' % precision_score(y_true=y_test, y_pred=y_pred))\n",
        "    print('재현율: %.3f' % recall_score(y_true=y_test, y_pred=y_pred))\n",
        "    print('F1: %.3f' % f1_score(y_true=y_test, y_pred=y_pred))"
      ],
      "execution_count": null,
      "outputs": []
    },
    {
      "cell_type": "code",
      "metadata": {
        "scrolled": false,
        "id": "hmlvVJ8RiiDE",
        "outputId": "0c483f23-1cf2-436e-edf7-c9137be64598",
        "colab": {
          "base_uri": "https://localhost:8080/",
          "height": 566
        }
      },
      "source": [
        "clf_labels = ['Decision tree', 'Bagging', 'Ada boost']\n",
        "all_clf = [tree, bagging, adaboost]\n",
        "\n",
        "for clf, label in zip(all_clf, clf_labels):\n",
        "    start = time.time()  # 시작 시간 저장\n",
        "    print(\"[%s] \" % label)\n",
        "    test_validate(clf)\n",
        "    print(\"time : %.3f sec\" % ( time.time() - start ))\n",
        "    print(\"-*\"*20)"
      ],
      "execution_count": null,
      "outputs": [
        {
          "output_type": "stream",
          "text": [
            "[Decision tree] \n",
            "         Predict[0]  Predict[1]\n",
            "True[0]        1351           5\n",
            "True[1]          16         128\n",
            "잘못 분류된 샘플 개수: 21\n",
            "정확도: 0.986\n",
            "정밀도: 0.962\n",
            "재현율: 0.889\n",
            "F1: 0.924\n",
            "time : 0.020 sec\n",
            "-*-*-*-*-*-*-*-*-*-*-*-*-*-*-*-*-*-*-*-*\n",
            "[Bagging] \n",
            "         Predict[0]  Predict[1]\n",
            "True[0]        1352           4\n",
            "True[1]          23         121\n",
            "잘못 분류된 샘플 개수: 27\n",
            "정확도: 0.982\n",
            "정밀도: 0.968\n",
            "재현율: 0.840\n",
            "F1: 0.900\n",
            "time : 0.422 sec\n",
            "-*-*-*-*-*-*-*-*-*-*-*-*-*-*-*-*-*-*-*-*\n",
            "[Ada boost] \n",
            "         Predict[0]  Predict[1]\n",
            "True[0]        1349           7\n",
            "True[1]          24         120\n",
            "잘못 분류된 샘플 개수: 31\n",
            "정확도: 0.979\n",
            "정밀도: 0.945\n",
            "재현율: 0.833\n",
            "F1: 0.886\n",
            "time : 0.860 sec\n",
            "-*-*-*-*-*-*-*-*-*-*-*-*-*-*-*-*-*-*-*-*\n"
          ],
          "name": "stdout"
        }
      ]
    },
    {
      "cell_type": "code",
      "metadata": {
        "id": "WjeNL11kjFr0"
      },
      "source": [
        ""
      ],
      "execution_count": null,
      "outputs": []
    }
  ]
}