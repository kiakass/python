{
 "cells": [
  {
   "cell_type": "code",
   "execution_count": null,
   "metadata": {},
   "outputs": [],
   "source": [
    "# componets selection\n",
    "import numpy as np\n",
    "import matplotlib.pyplot as plt\n",
    "\n",
    "pca3 = PCA(n_components=10)\n",
    "N=len(pca3.singular_values_)+1 #component 수\n",
    "\n",
    "x=np.arange(1,N) #주성분수\n",
    "y=np.cumsum(pca3.explained_variance_ratio_) # explained_variance_ratio_ 설명력=설명비율\n",
    "z=pca3.explained_variance_ratio_\n",
    "plt.plot(x,y,'o-',color='r')\n",
    "plt.bar(x,z)\n",
    "\n",
    "for x,y in zip(x,y):\n",
    "\n",
    "    label = \"{:.2f}\".format(y)\n",
    "\n",
    "    plt.annotate(label, # this is the text\n",
    "                 (x,y), # this is the point to label\n",
    "                 textcoords=\"offset points\", # how to position the text\n",
    "                 xytext=(0,3), # distance from text to points (x,y)\n",
    "                 ha='center') # horizontal alignment can be left, right or center\n",
    "\n",
    "plt.title(\"Component Explaination ratio\",fontsize=15)\n",
    "plt.xlabel(\"component num\")\n",
    "plt.ylabel(\"ratio\")\n",
    "plt.show()"
   ]
  }
 ],
 "metadata": {
  "kernelspec": {
   "display_name": "Python 3",
   "language": "python",
   "name": "python3"
  },
  "language_info": {
   "codemirror_mode": {
    "name": "ipython",
    "version": 3
   },
   "file_extension": ".py",
   "mimetype": "text/x-python",
   "name": "python",
   "nbconvert_exporter": "python",
   "pygments_lexer": "ipython3",
   "version": "3.6.9"
  }
 },
 "nbformat": 4,
 "nbformat_minor": 4
}
