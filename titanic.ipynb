{
  "nbformat": 4,
  "nbformat_minor": 0,
  "metadata": {
    "colab": {
      "name": "titanic.ipynb",
      "provenance": [],
      "authorship_tag": "ABX9TyNSwq5DHptJhS28FyO34CyT",
      "include_colab_link": true
    },
    "kernelspec": {
      "name": "python3",
      "display_name": "Python 3"
    }
  },
  "cells": [
    {
      "cell_type": "markdown",
      "metadata": {
        "id": "view-in-github",
        "colab_type": "text"
      },
      "source": [
        "<a href=\"https://colab.research.google.com/github/kiakass/python/blob/master/titanic.ipynb\" target=\"_parent\"><img src=\"https://colab.research.google.com/assets/colab-badge.svg\" alt=\"Open In Colab\"/></a>"
      ]
    },
    {
      "cell_type": "code",
      "metadata": {
        "colab": {
          "base_uri": "https://localhost:8080/",
          "height": 295
        },
        "id": "Cbsosmh2sQN9",
        "outputId": "17fbe41e-d412-45cf-bc37-a39da71dd795"
      },
      "source": [
        "import pandas as pd\r\n",
        "import xlrd\r\n",
        "import seaborn as sns\r\n",
        "\r\n",
        "url='https://raw.githubusercontent.com/kiakass/share/master/titanic.csv'\r\n",
        "titanic=pd.read_csv(url)\r\n",
        "\r\n",
        "# who,  alive\r\n",
        "titanic.loc[(titanic.sex == 'male') & (titanic.age >= 16),'who'] ='man'\r\n",
        "titanic.loc[(titanic.sex == 'female') & (titanic.age >= 16),'who'] ='woman'\r\n",
        "titanic.loc[(titanic.age < 16),'who'] ='child'\r\n",
        "titanic.loc[(titanic.survived == 0),'alive'] ='no'\r\n",
        "titanic.loc[(titanic.survived == 1),'alive'] ='yes'\r\n",
        "\r\n",
        "titanic_size = titanic.pivot_table(index='who', columns='alive', aggfunc='size') # y, x, 범주\r\n",
        "sns.heatmap(titanic_size, cmap=sns.light_palette('crimson',as_cmap=True), annot=True, fmt='d')"
      ],
      "execution_count": 2,
      "outputs": [
        {
          "output_type": "execute_result",
          "data": {
            "text/plain": [
              "<matplotlib.axes._subplots.AxesSubplot at 0x7f5b5a5ec5f8>"
            ]
          },
          "metadata": {
            "tags": []
          },
          "execution_count": 2
        },
        {
          "output_type": "display_data",
          "data": {
            "image/png": "[encoded data removed]",
            "text/plain": [
              "<Figure size 432x288 with 2 Axes>"
            ]
          },
          "metadata": {
            "tags": [],
            "needs_background": "light"
          }
        }
      ]
    }
  ]
}