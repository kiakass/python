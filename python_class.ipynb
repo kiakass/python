{
  "nbformat": 4,
  "nbformat_minor": 0,
  "metadata": {
    "colab": {
      "name": "python_class.ipynb",
      "provenance": [],
      "authorship_tag": "ABX9TyPzaCVY3wxdBAK4RhwwUmAN",
      "include_colab_link": true
    },
    "kernelspec": {
      "name": "python3",
      "display_name": "Python 3"
    },
    "language_info": {
      "name": "python"
    }
  },
  "cells": [
    {
      "cell_type": "markdown",
      "metadata": {
        "id": "view-in-github",
        "colab_type": "text"
      },
      "source": [
        "<a href=\"https://colab.research.google.com/github/kiakass/python/blob/master/python_class.ipynb\" target=\"_parent\"><img src=\"https://colab.research.google.com/assets/colab-badge.svg\" alt=\"Open In Colab\"/></a>"
      ]
    },
    {
      "cell_type": "code",
      "source": [
        "class DatetimeDecorator:\n",
        "\n",
        "        def __init__(self, f):\n",
        "\n",
        "                self.func = f # 함수를 전달한다.\n",
        "\n",
        "\n",
        "\n",
        "        def __call__(self):\n",
        "\n",
        "                print (datetime.datetime.now())\n",
        "\n",
        "                self.func()\n",
        "\n",
        "                print (datetime.datetime.now())\n",
        "\n",
        "\n",
        "\n",
        "class MainClass:\n",
        "\n",
        "        @DatetimeDecorator\n",
        "\n",
        "        def main_function_1():\n",
        "\n",
        "                print (\"MAIN FUNCTION 1 START\")\n",
        "\n",
        "\n",
        "\n",
        "        @DatetimeDecorator\n",
        "\n",
        "        def main_function_2():\n",
        "\n",
        "                print (\"MAIN FUNCTION 2 START\")\n",
        "\n",
        "\n",
        "\n",
        "        @DatetimeDecorator\n",
        "\n",
        "        def main_function_3():\n",
        "\n",
        "                print (\"MAIN FUNCTION 3 START\")\n",
        "\n",
        "\n",
        "\n",
        "\n",
        "\n",
        "my = MainClass()\n",
        "\n",
        "my.main_function_1()"
      ],
      "metadata": {
        "colab": {
          "base_uri": "https://localhost:8080/"
        },
        "id": "XUeelLai2eZV",
        "outputId": "5e827ccb-be4e-468c-dd63-310b99a481ca"
      },
      "execution_count": null,
      "outputs": [
        {
          "output_type": "stream",
          "name": "stdout",
          "text": [
            "2021-12-27 05:12:22.919916\n",
            "MAIN FUNCTION 1 START\n",
            "2021-12-27 05:12:22.920144\n"
          ]
        }
      ]
    },
    {
      "cell_type": "code",
      "source": [
        "#@title\n",
        "1. class __init__, __call__\n",
        "2. decorator function\n",
        "3. *args, **kwagrs"
      ],
      "metadata": {
        "id": "Pz1A0NOp4ic1"
      },
      "execution_count": null,
      "outputs": []
    },
    {
      "cell_type": "code",
      "source": [
        "class A:\n",
        "    def __init__(self):\n",
        "        print('init')\n",
        "    def __call__(self):\n",
        "        print('call')"
      ],
      "metadata": {
        "id": "yS8q7Lyq7gsV"
      },
      "execution_count": null,
      "outputs": []
    },
    {
      "cell_type": "code",
      "source": [
        "a=A()"
      ],
      "metadata": {
        "colab": {
          "base_uri": "https://localhost:8080/"
        },
        "id": "QtCctdTW7iY6",
        "outputId": "0b71874a-ef15-40f0-d0ca-43eab4cf2f43"
      },
      "execution_count": null,
      "outputs": [
        {
          "output_type": "stream",
          "name": "stdout",
          "text": [
            "init\n"
          ]
        }
      ]
    },
    {
      "cell_type": "code",
      "source": [
        "a()"
      ],
      "metadata": {
        "colab": {
          "base_uri": "https://localhost:8080/"
        },
        "id": "877Cim-O7otx",
        "outputId": "692faaec-62ca-4dc1-d6d0-85d77dd623c4"
      },
      "execution_count": null,
      "outputs": [
        {
          "output_type": "stream",
          "name": "stdout",
          "text": [
            "call\n"
          ]
        }
      ]
    },
    {
      "cell_type": "code",
      "source": [
        "import datetime\n",
        "\n",
        "class exam_deco:\n",
        "\n",
        "    '''\n",
        "    : 호출시(@exam_deco) function 의 앞뒤에 decorate 문자를 붙여줌\n",
        "    '''\n",
        "\n",
        "    def __init__(self, f):\n",
        "\n",
        "        self.func = f \n",
        "\n",
        "    def __call__(self, *args, **kwargs):\n",
        "        '''\n",
        "        : *arg : 튜플형태의 value 를 사용\n",
        "        : **kwargs : 딕셔너리형태의 key,value 인자를 사용\n",
        "        : 여러개의 인자를 받을수 있으나, 순서를 지켜야 된다.\n",
        "        '''\n",
        "\n",
        "        print(datetime.datetime.now())\n",
        "\n",
        "        self.func(*args, **kwargs)\n",
        "\n",
        "        print(datetime.datetime.now());print('')\n",
        "\n",
        "\n",
        "class exam_class:\n",
        "\n",
        "    def __init__(self):\n",
        "\n",
        "        print('init')\n",
        "\n",
        "    @exam_deco #decorator : class를 대리 호출\n",
        "    def a(self, *args, **kwargs):\n",
        "\n",
        "        print(args, kwargs)\n",
        "    \n",
        "    def b(self, *args, **kwargs):\n",
        "\n",
        "        print(args, kwargs);print('')\n",
        "\n",
        "    def c(self):\n",
        "\n",
        "        print('self :');print('')\n",
        "\n",
        "\n",
        "    def d(*args):\n",
        "\n",
        "        print(args);print('')\n",
        "\n",
        "    def f():\n",
        "\n",
        "        print('without args')"
      ],
      "metadata": {
        "id": "dgIajkCd1sEa"
      },
      "execution_count": 21,
      "outputs": []
    },
    {
      "cell_type": "code",
      "source": [
        "# 객체 생성 -> __init__ 호출 \n",
        "my=exam_class()"
      ],
      "metadata": {
        "id": "qqrJAyoFziNB",
        "colab": {
          "base_uri": "https://localhost:8080/"
        },
        "outputId": "20db0f11-4f79-4681-aeb5-144c55d8e18e"
      },
      "execution_count": 22,
      "outputs": [
        {
          "output_type": "stream",
          "name": "stdout",
          "text": [
            "init\n"
          ]
        }
      ]
    },
    {
      "cell_type": "code",
      "source": [
        "my.a(1,2,3,B=4)\n",
        "\n",
        "my.b(1,2,3)\n",
        "my.b(a=1,b=2,d=4)\n",
        "my.b(1,a=1,b=2,d=4)\n",
        "\n",
        "my.c()"
      ],
      "metadata": {
        "colab": {
          "base_uri": "https://localhost:8080/"
        },
        "id": "KR5hAKjU2T5f",
        "outputId": "1bef0961-ed8f-48f7-9163-a3e1440f3ab1"
      },
      "execution_count": 23,
      "outputs": [
        {
          "output_type": "stream",
          "name": "stdout",
          "text": [
            "2021-12-28 06:15:21.635115\n",
            "(2, 3) {'B': 4}\n",
            "2021-12-28 06:15:21.636615\n",
            "\n",
            "(1, 2, 3) {}\n",
            "\n",
            "() {'a': 1, 'b': 2, 'd': 4}\n",
            "\n",
            "(1,) {'a': 1, 'b': 2, 'd': 4}\n",
            "\n",
            "self :\n",
            "\n"
          ]
        }
      ]
    },
    {
      "cell_type": "code",
      "source": [
        "my.d(1,2,3)"
      ],
      "metadata": {
        "colab": {
          "base_uri": "https://localhost:8080/"
        },
        "id": "V0ctvq0UrMyp",
        "outputId": "7b4f7fa2-77b6-40b5-a67f-8c8e8a98e806"
      },
      "execution_count": 24,
      "outputs": [
        {
          "output_type": "stream",
          "name": "stdout",
          "text": [
            "(<__main__.exam_class object at 0x7fa8a1853310>, 1, 2, 3)\n",
            "\n"
          ]
        }
      ]
    },
    {
      "cell_type": "code",
      "source": [
        "my.d(1,22)"
      ],
      "metadata": {
        "colab": {
          "base_uri": "https://localhost:8080/"
        },
        "id": "KXrSKzDjsdnS",
        "outputId": "3d1b3ebb-5a03-433c-e644-5657c99929bb"
      },
      "execution_count": 33,
      "outputs": [
        {
          "output_type": "stream",
          "name": "stdout",
          "text": [
            "(<__main__.exam_class object at 0x7fa8a1853310>, 1, 22)\n",
            "\n"
          ]
        }
      ]
    },
    {
      "cell_type": "code",
      "source": [
        "my.f()"
      ],
      "metadata": {
        "colab": {
          "base_uri": "https://localhost:8080/",
          "height": 182
        },
        "id": "ot_Y0DysfzO2",
        "outputId": "2d602131-cf90-489d-a513-cdbd552d7dbf"
      },
      "execution_count": 13,
      "outputs": [
        {
          "output_type": "error",
          "ename": "TypeError",
          "evalue": "ignored",
          "traceback": [
            "\u001b[0;31m---------------------------------------------------------------------------\u001b[0m",
            "\u001b[0;31mTypeError\u001b[0m                                 Traceback (most recent call last)",
            "\u001b[0;32m<ipython-input-13-9755125eb80b>\u001b[0m in \u001b[0;36m<module>\u001b[0;34m()\u001b[0m\n\u001b[0;32m----> 1\u001b[0;31m \u001b[0mmy\u001b[0m\u001b[0;34m.\u001b[0m\u001b[0mf\u001b[0m\u001b[0;34m(\u001b[0m\u001b[0;34m)\u001b[0m\u001b[0;34m\u001b[0m\u001b[0;34m\u001b[0m\u001b[0m\n\u001b[0m",
            "\u001b[0;31mTypeError\u001b[0m: f() takes 0 positional arguments but 1 was given"
          ]
        }
      ]
    },
    {
      "cell_type": "code",
      "source": [
        "exam_class.f()"
      ],
      "metadata": {
        "colab": {
          "base_uri": "https://localhost:8080/"
        },
        "id": "VIDyYTNBcd66",
        "outputId": "7ba2e702-1bd6-4b48-ccfd-8617da9dd20a"
      },
      "execution_count": 14,
      "outputs": [
        {
          "output_type": "stream",
          "name": "stdout",
          "text": [
            "without args\n"
          ]
        }
      ]
    },
    {
      "cell_type": "code",
      "source": [
        "# 클래스.메서드(인스턴스)\n",
        "my2=exam_class()\n",
        "exam_class.b(my2,1)"
      ],
      "metadata": {
        "colab": {
          "base_uri": "https://localhost:8080/"
        },
        "id": "jVGp65aDejuT",
        "outputId": "a6a64e89-2e36-4459-dd70-00c781eac77c"
      },
      "execution_count": 15,
      "outputs": [
        {
          "output_type": "stream",
          "name": "stdout",
          "text": [
            "init\n",
            "(1,) {}\n",
            "\n"
          ]
        }
      ]
    },
    {
      "cell_type": "code",
      "source": [
        "my.d(my2,1,2,3)"
      ],
      "metadata": {
        "colab": {
          "base_uri": "https://localhost:8080/"
        },
        "id": "FmI4qoWuvqjY",
        "outputId": "e7067bc8-66e8-4e18-8db1-e4df33b64f58"
      },
      "execution_count": 51,
      "outputs": [
        {
          "output_type": "stream",
          "name": "stdout",
          "text": [
            "(<__main__.exam_class object at 0x7fa8a1853310>, <__main__.exam_class object at 0x7fa8a1858910>, 1, 2, 3)\n",
            "\n"
          ]
        }
      ]
    },
    {
      "cell_type": "code",
      "source": [
        "id(my2)"
      ],
      "metadata": {
        "id": "TTJMMNjx3Cev",
        "colab": {
          "base_uri": "https://localhost:8080/"
        },
        "outputId": "8793e9ac-fb55-4669-924f-9d44c33f5103"
      },
      "execution_count": 47,
      "outputs": [
        {
          "output_type": "execute_result",
          "data": {
            "text/plain": [
              "140362241116432"
            ]
          },
          "metadata": {},
          "execution_count": 47
        }
      ]
    },
    {
      "cell_type": "code",
      "source": [
        "int(0x7fa8a1858910)"
      ],
      "metadata": {
        "colab": {
          "base_uri": "https://localhost:8080/"
        },
        "id": "I8l-4oTx1bn5",
        "outputId": "8aafcc84-695c-4862-9d6c-252dd75d935c"
      },
      "execution_count": 48,
      "outputs": [
        {
          "output_type": "execute_result",
          "data": {
            "text/plain": [
              "140362241116432"
            ]
          },
          "metadata": {},
          "execution_count": 48
        }
      ]
    }
  ]
}