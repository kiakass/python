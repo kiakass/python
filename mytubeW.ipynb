{
  "nbformat": 4,
  "nbformat_minor": 0,
  "metadata": {
    "colab": {
      "name": "mytubeW",
      "provenance": [],
      "authorship_tag": "ABX9TyP6bHS5gtpEdgIloakgwodS",
      "include_colab_link": true
    },
    "kernelspec": {
      "name": "python3",
      "display_name": "Python 3"
    }
  },
  "cells": [
    {
      "cell_type": "markdown",
      "metadata": {
        "id": "view-in-github",
        "colab_type": "text"
      },
      "source": [
        "<a href=\"https://colab.research.google.com/github/kiakass/python/blob/master/mytubeW.ipynb\" target=\"_parent\"><img src=\"https://colab.research.google.com/assets/colab-badge.svg\" alt=\"Open In Colab\"/></a>"
      ]
    },
    {
      "cell_type": "code",
      "metadata": {
        "colab": {
          "base_uri": "https://localhost:8080/"
        },
        "id": "zJrqplxF0-ls",
        "outputId": "4e77ce27-02de-4120-8fc2-c8e566bcc0f4"
      },
      "source": [
        "from pytube import YouTube\r\n",
        "import time\r\n",
        "\r\n",
        "#MyTube 동영상 다운로드 프로그램을GUI로 구성하고 실행파일로 생성\r\n",
        "from tkinter import *\r\n",
        "window = None\r\n",
        "entry_widget = None\r\n",
        "download_label = None\r\n",
        "URL = None\r\n",
        "\r\n",
        "# example :  https://www.youtube.com/watch?v=4RhJUUW_As4\r\n",
        "def button_download():\r\n",
        "    global entry_widget\r\n",
        "    global download_label\r\n",
        "    URL ='YY;'\r\n",
        "    URL = entry_widget.get()\r\n",
        "    YouTubeVideo = YouTube(URL)\r\n",
        "    print('타이틀 : ', YouTubeVideo.title)\r\n",
        "    myVideo = YouTubeVideo.streams.get_highest_resolution()\r\n",
        "    time.sleep(2)\r\n",
        "    time.sleep(2)\r\n",
        "    myVideo.download()\r\n",
        "    download_label['text'] = '타이틀 : \\\"' + str(YouTubeVideo.title[:20]) \\\r\n",
        "                             + '\\\"  ★★★ 다운로드가 완료되었습니다. ^^'\r\n",
        "\r\n",
        "def setupGUI():\r\n",
        "    global window\r\n",
        "    global entry_widget\r\n",
        "    global download_label\r\n",
        "    window = Tk()\r\n",
        "    window.title('myTube')\r\n",
        "    # Entry 입력 위젯 생성\r\n",
        "    entry_widget = Entry(window, width= 100)\r\n",
        "    entry_widget.grid( row= 0 , column= 0 , padx= 3 , pady= 3 )\r\n",
        "    # download button\r\n",
        "    download_button = Button(window, text ='다운로드', command =button_download, width= 20)\r\n",
        "    download_button.grid( row= 1 , column=0 , padx= 3 , pady= 3)\r\n",
        "    # Download label\r\n",
        "    download_label = Label(window, text ='다운로드 할 주소를 입력하고 다운로드 버튼을 누르세요',\r\n",
        "                        relief = FLAT )\r\n",
        "    download_label.grid( row= 2 , column= 0 , padx= 5 , pady= 5)\r\n",
        "\r\n",
        "setupGUI()\r\n",
        "window.mainloop()"
      ],
      "execution_count": null,
      "outputs": [
        {
          "output_type": "stream",
          "text": [
            "Requirement already satisfied: graphviz in /usr/local/lib/python3.6/dist-packages (0.10.1)\n"
          ],
          "name": "stdout"
        }
      ]
    }
  ]
}