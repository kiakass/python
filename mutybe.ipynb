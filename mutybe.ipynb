{
  "nbformat": 4,
  "nbformat_minor": 0,
  "metadata": {
    "colab": {
      "name": "mutybe.ipynb",
      "provenance": [],
      "authorship_tag": "ABX9TyMsmGNtQ+lQdO0RbGZ6YNhB",
      "include_colab_link": true
    },
    "kernelspec": {
      "name": "python3",
      "display_name": "Python 3"
    }
  },
  "cells": [
    {
      "cell_type": "markdown",
      "metadata": {
        "id": "view-in-github",
        "colab_type": "text"
      },
      "source": [
        "<a href=\"https://colab.research.google.com/github/kiakass/python/blob/master/mutybe.ipynb\" target=\"_parent\"><img src=\"https://colab.research.google.com/assets/colab-badge.svg\" alt=\"Open In Colab\"/></a>"
      ]
    },
    {
      "cell_type": "code",
      "metadata": {
        "id": "b-eqQzJZ76Mv"
      },
      "source": [
        "#MyTube 동영상 다운로드 프로그램을GUI로 구성하고 실행파일로 생성\r\n",
        "from tkinter import *\r\n",
        "from tkinter import messagebox\r\n",
        "window = None\r\n",
        "entry_widget = None\r\n",
        "download_label = None\r\n",
        "URL = None\r\n",
        "\r\n",
        "# example :  https://www.youtube.com/watch?v=4RhJUUW_As4\r\n",
        "from pytube import YouTube\r\n",
        "\r\n",
        "def infoBox():\r\n",
        "    global entry_widget\r\n",
        "    global download_label\r\n",
        "    URL ='YY;'\r\n",
        "    URL = entry_widget.get()\r\n",
        "    YouTubeVideo = YouTube(URL)\r\n",
        "    messagebox.showinfo( \"알림\", \"다음 동영상을 다운로드 합니다.\\n\" +\r\n",
        "                         YouTubeVideo.title)\r\n",
        "    myVideo = YouTubeVideo.streams.get_highest_resolution()\r\n",
        "    myVideo.download()\r\n",
        "    downloadBox()\r\n",
        "\r\n",
        "def downloadBox():\r\n",
        "    messagebox.showinfo( \"ok\", \"다운로드가 완료되었습니다.\" )\r\n",
        "\r\n",
        "def setupGUI():\r\n",
        "    global window\r\n",
        "    global entry_widget\r\n",
        "    global download_label\r\n",
        "    window = Tk()\r\n",
        "    window.title('myTube')\r\n",
        "    # Entry 입력 위젯 생성\r\n",
        "    entry_widget = Entry(window, width= 100)\r\n",
        "    entry_widget.grid( row= 0 , column= 0 , padx= 3 , pady= 3 )\r\n",
        "    # download button\r\n",
        "    download_button = Button(window, text ='다운로드', command =infoBox, width= 20)\r\n",
        "    download_button.grid( row= 1 , column=0 , padx= 3 , pady= 3)\r\n",
        "    # Download label\r\n",
        "    download_label = Label(window, text ='다운로드 할 주소를 입력하고 다운로드 버튼을 누르세요',\r\n",
        "                        relief = FLAT )\r\n",
        "    download_label.grid( row= 2 , column= 0 , padx= 5 , pady= 5)\r\n",
        "\r\n",
        "setupGUI()\r\n",
        "window.mainloop()\r\n",
        "'''\r\n",
        "pyinstaller 모듈을 활용하여 실행파일(exe) 생성\r\n",
        "파이썬 명령창에서 실행\r\n",
        "pyinstaller --onefile xx.py \r\n",
        "-> 하나의 실행파일로 압축해서 생성\r\n",
        "pyinstaller --onefile --noconsol xx.py\r\n",
        "-> GUI 로 구현되어 콘솔창을 보이지 않게 처리하고 , 하나의 실행파일로 압축해서 생성\r\n",
        "'''"
      ],
      "execution_count": null,
      "outputs": []
    }
  ]
}